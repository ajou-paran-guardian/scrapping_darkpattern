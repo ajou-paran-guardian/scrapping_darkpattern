{
 "cells": [
  {
   "cell_type": "code",
   "execution_count": null,
   "id": "78966097-13a2-4316-910a-d2a0c201801d",
   "metadata": {},
   "outputs": [],
   "source": [
    "# 설명 : 동적페이지에 키워드가 있는 지 확인 -> 앞에서 찾은 부분이 정적 페이지에 있는 지 확인 - > 있으면 추출"
   ]
  },
  {
   "cell_type": "code",
   "execution_count": 17,
   "id": "413f7b8f-ce69-4db1-9fee-d39a8611c3b5",
   "metadata": {},
   "outputs": [],
   "source": [
    "# keyword 예시 : ~남음, ~개, ~보고 있~, ~까지, ~명이 담음, ~보는 "
   ]
  },
  {
   "cell_type": "code",
   "execution_count": 43,
   "id": "254c4d0f-67f8-41d6-b4bf-cf9eb97cbf0b",
   "metadata": {},
   "outputs": [],
   "source": [
    "#pandas import\n",
    "import pandas as pd\n",
    "import time\n",
    "import os\n",
    "\n",
    "#BeautifulSoup import\n",
    "from bs4 import BeautifulSoup\n",
    "from urllib.request import Request, urlopen\n",
    "\n",
    "#Selenium import\n",
    "from selenium import webdriver\n",
    "from selenium.webdriver.common.by import By\n",
    "from selenium.common.exceptions import NoSuchElementException  # 예외 처리 추가\n",
    "from selenium.webdriver.chrome.options import Options # user-agent 변경"
   ]
  },
  {
   "cell_type": "code",
   "execution_count": 44,
   "id": "9b743006-dde9-40a0-9504-d7848b7bf45a",
   "metadata": {},
   "outputs": [],
   "source": [
    "# Chrome 옵션 설정\n",
    "chrome_options = Options()\n",
    "chrome_options.add_argument(\"Mozilla/5.0\")  # 원하는 User-Agent 문자열로 변경"
   ]
  },
  {
   "cell_type": "code",
   "execution_count": 45,
   "id": "c8072b24-a28a-486b-a151-67c5be9808a0",
   "metadata": {},
   "outputs": [],
   "source": [
    "# 가장 작은 div 레이아웃 가져오기\n",
    "def find_div(elements):\n",
    "    html = []\n",
    "    for element in elements:\n",
    "        try:\n",
    "            # 현재 요소를 포함하는 가장 가까운 div 찾기\n",
    "            closest_div = element.find_element(By.XPATH, './ancestor::div[1]')\n",
    "            html_code = closest_div.get_attribute('outerHTML')\n",
    "            \n",
    "            # 결과 출력\n",
    "            print(\"HTML Code:\")\n",
    "            print(html_code)\n",
    "            \n",
    "            #결과값 저장\n",
    "            html.append(html_code)\n",
    "            \n",
    "        except NoSuchElementException:\n",
    "            print(\"가장 가까운 div 요소를 찾을 수 없습니다.\")\n",
    "            \n",
    "    return html"
   ]
  },
  {
   "cell_type": "code",
   "execution_count": 46,
   "id": "ad0a0cdd-59ac-405b-9679-4df46b18e6a8",
   "metadata": {},
   "outputs": [],
   "source": [
    "# 동적 페이지와 동일한 부분 가져오기\n",
    "def false_detect(dynamic_html,static_html):\n",
    "    dynamic = []\n",
    "    static = []\n",
    "    result = []\n",
    "    for dynamic_block in dynamic_html:\n",
    "\n",
    "        false_result = \"false\"\n",
    "        static_parent = None\n",
    "        #동적 요소에서 텍스트만 추출\n",
    "        dynamic_soup = BeautifulSoup(dynamic_block, \"html.parser\")\n",
    "        dynamic_text = dynamic_soup.get_text(strip=True)\n",
    "        \n",
    "        #동적 요소의 텍스트를 기반으로 동일한 내용 찾기\n",
    "        static_element = static_html.find(string=lambda text: dynamic_text in text if text else False)\n",
    "        \n",
    "        if static_element:\n",
    "            static_parent = static_element.find_parent() #텍스트가 속한 부모 태그를 추출\n",
    "            print(f\"---동일한 정보가 존재합니다.--- | dynamic : {dynamic_block} | static : {static_parent}\")\n",
    "            \n",
    "        else:\n",
    "            print(f\"---해당 정보가 없습니다.--- | dynamic : {dynamic_block}\")\n",
    "            false_result = \"true\"\n",
    "            \n",
    "        dynamic.append(dynamic_block)\n",
    "        static.append(static_parent)\n",
    "        result.append(false_result)\n",
    "        print(\"------------------------\")\n",
    "        \n",
    "    return dynamic, static, result"
   ]
  },
  {
   "cell_type": "code",
   "execution_count": 47,
   "id": "86fa1732-a9cd-494f-bdb6-32372ff1860a",
   "metadata": {
    "scrolled": true
   },
   "outputs": [
    {
     "name": "stdout",
     "output_type": "stream",
     "text": [
      "Dynamic URL open : https://www.agoda.com/ko-kr/search?city=16527&locale=ko-kr&ckuid=cbe5b914-1610-41bd-ab4d-111db75912cd&prid=0&currency=KRW&correlationId=5e3ddd71-186f-4493-85f2-2bc2a95ae2ad&analyticsSessionId=4589510054972858855&pageTypeId=1&realLanguageId=9&languageId=9&origin=KR&stateCode=11&cid=1844104&userId=cbe5b914-1610-41bd-ab4d-111db75912cd&whitelabelid=1&loginLvl=0&storefrontId=3&currencyId=26&currencyCode=KRW&htmlLanguage=ko-kr&cultureInfoName=ko-kr&machineName=hk-pc-2i-acm-web-user-6599bbcc8d-h9k4g&trafficGroupId=1&trafficSubGroupId=84&aid=130589&useFullPageLogin=true&cttp=4&isRealUser=true&mode=production&browserFamily=Chrome&cdnDomain=agoda.net&checkIn=2024-10-21&checkOut=2024-10-25&rooms=1&adults=2&children=0&priceCur=KRW&los=4&textToSearch=%ED%9B%84%EC%BF%A0%EC%98%A4%EC%B9%B4&travellerType=1&familyMode=off&ds=l%2Bf9mEYMkCznDxnr&productType=-1\n",
      "HTML Code:\n",
      "<div data-element-name=\"discount-percent\" data-discount-percentage=\"0\" data-badge-id=\"disc-perc\" class=\"a46d6-box a46d6-bg-product-price a46d6-fill-inherit a46d6-text-inherit a46d6-w-full a46d6-items-start a46d6-self-start a46d6-inline-flex a46d6-flex-row a46d6-justify-center a46d6-text-start a46d6-p-none a46d6-px-s a46d6-py-xs  a46d6-rounded-xs    \"><span class=\"sc-jrAGrp sc-kEjbxe eDlaBj eqGbie\">이 요금 객실 2개 남음</span></div>\n",
      "HTML Code:\n",
      "<div data-element-name=\"discount-percent\" data-discount-percentage=\"0\" data-badge-id=\"disc-perc\" class=\"a46d6-box a46d6-bg-product-price a46d6-fill-inherit a46d6-text-inherit a46d6-w-full a46d6-items-start a46d6-self-start a46d6-inline-flex a46d6-flex-row a46d6-justify-center a46d6-text-start a46d6-p-none a46d6-px-s a46d6-py-xs  a46d6-rounded-xs    \"><span class=\"sc-jrAGrp sc-kEjbxe eDlaBj eqGbie\">이 요금 객실 1개 남음</span></div>\n",
      "가장 가까운 div 요소를 찾을 수 없습니다.\n",
      "Static URL open: https://www.agoda.com/ko-kr/search?city=16527&locale=ko-kr&ckuid=cbe5b914-1610-41bd-ab4d-111db75912cd&prid=0&currency=KRW&correlationId=5e3ddd71-186f-4493-85f2-2bc2a95ae2ad&analyticsSessionId=4589510054972858855&pageTypeId=1&realLanguageId=9&languageId=9&origin=KR&stateCode=11&cid=1844104&userId=cbe5b914-1610-41bd-ab4d-111db75912cd&whitelabelid=1&loginLvl=0&storefrontId=3&currencyId=26&currencyCode=KRW&htmlLanguage=ko-kr&cultureInfoName=ko-kr&machineName=hk-pc-2i-acm-web-user-6599bbcc8d-h9k4g&trafficGroupId=1&trafficSubGroupId=84&aid=130589&useFullPageLogin=true&cttp=4&isRealUser=true&mode=production&browserFamily=Chrome&cdnDomain=agoda.net&checkIn=2024-10-21&checkOut=2024-10-25&rooms=1&adults=2&children=0&priceCur=KRW&los=4&textToSearch=%ED%9B%84%EC%BF%A0%EC%98%A4%EC%B9%B4&travellerType=1&familyMode=off&ds=l%2Bf9mEYMkCznDxnr&productType=-1\n",
      "---해당 정보가 없습니다.--- | dynamic : <div data-element-name=\"discount-percent\" data-discount-percentage=\"0\" data-badge-id=\"disc-perc\" class=\"a46d6-box a46d6-bg-product-price a46d6-fill-inherit a46d6-text-inherit a46d6-w-full a46d6-items-start a46d6-self-start a46d6-inline-flex a46d6-flex-row a46d6-justify-center a46d6-text-start a46d6-p-none a46d6-px-s a46d6-py-xs  a46d6-rounded-xs    \"><span class=\"sc-jrAGrp sc-kEjbxe eDlaBj eqGbie\">이 요금 객실 2개 남음</span></div>\n",
      "------------------------\n",
      "---해당 정보가 없습니다.--- | dynamic : <div data-element-name=\"discount-percent\" data-discount-percentage=\"0\" data-badge-id=\"disc-perc\" class=\"a46d6-box a46d6-bg-product-price a46d6-fill-inherit a46d6-text-inherit a46d6-w-full a46d6-items-start a46d6-self-start a46d6-inline-flex a46d6-flex-row a46d6-justify-center a46d6-text-start a46d6-p-none a46d6-px-s a46d6-py-xs  a46d6-rounded-xs    \"><span class=\"sc-jrAGrp sc-kEjbxe eDlaBj eqGbie\">이 요금 객실 1개 남음</span></div>\n",
      "------------------------\n",
      "Dynamic URL open : https://www.temu.com/kr\n",
      "Static URL open: https://www.temu.com/kr\n"
     ]
    },
    {
     "ename": "HTTPError",
     "evalue": "HTTP Error 403: Forbidden",
     "output_type": "error",
     "traceback": [
      "\u001b[1;31m---------------------------------------------------------------------------\u001b[0m",
      "\u001b[1;31mHTTPError\u001b[0m                                 Traceback (most recent call last)",
      "Cell \u001b[1;32mIn[47], line 24\u001b[0m\n\u001b[0;32m     22\u001b[0m \u001b[38;5;66;03m#4. 정적 페이지에서 해당 레이아웃 찾기\u001b[39;00m\n\u001b[0;32m     23\u001b[0m \u001b[38;5;28mprint\u001b[39m(\u001b[38;5;124m\"\u001b[39m\u001b[38;5;124mStatic URL open: \u001b[39m\u001b[38;5;124m\"\u001b[39m\u001b[38;5;241m+\u001b[39m url)\n\u001b[1;32m---> 24\u001b[0m static_html \u001b[38;5;241m=\u001b[39m urlopen(url) \n\u001b[0;32m     25\u001b[0m bs_obj \u001b[38;5;241m=\u001b[39m BeautifulSoup(static_html, \u001b[38;5;124m\"\u001b[39m\u001b[38;5;124mhtml.parser\u001b[39m\u001b[38;5;124m\"\u001b[39m) \u001b[38;5;66;03m#정적페이지\u001b[39;00m\n\u001b[0;32m     26\u001b[0m result_dynamic, result_static, result \u001b[38;5;241m=\u001b[39m false_detect(dynamic_html, bs_obj) \u001b[38;5;66;03m#동일한 부분 찾기\u001b[39;00m\n",
      "File \u001b[1;32m~\\anaconda3\\Lib\\urllib\\request.py:216\u001b[0m, in \u001b[0;36murlopen\u001b[1;34m(url, data, timeout, cafile, capath, cadefault, context)\u001b[0m\n\u001b[0;32m    214\u001b[0m \u001b[38;5;28;01melse\u001b[39;00m:\n\u001b[0;32m    215\u001b[0m     opener \u001b[38;5;241m=\u001b[39m _opener\n\u001b[1;32m--> 216\u001b[0m \u001b[38;5;28;01mreturn\u001b[39;00m opener\u001b[38;5;241m.\u001b[39mopen(url, data, timeout)\n",
      "File \u001b[1;32m~\\anaconda3\\Lib\\urllib\\request.py:525\u001b[0m, in \u001b[0;36mOpenerDirector.open\u001b[1;34m(self, fullurl, data, timeout)\u001b[0m\n\u001b[0;32m    523\u001b[0m \u001b[38;5;28;01mfor\u001b[39;00m processor \u001b[38;5;129;01min\u001b[39;00m \u001b[38;5;28mself\u001b[39m\u001b[38;5;241m.\u001b[39mprocess_response\u001b[38;5;241m.\u001b[39mget(protocol, []):\n\u001b[0;32m    524\u001b[0m     meth \u001b[38;5;241m=\u001b[39m \u001b[38;5;28mgetattr\u001b[39m(processor, meth_name)\n\u001b[1;32m--> 525\u001b[0m     response \u001b[38;5;241m=\u001b[39m meth(req, response)\n\u001b[0;32m    527\u001b[0m \u001b[38;5;28;01mreturn\u001b[39;00m response\n",
      "File \u001b[1;32m~\\anaconda3\\Lib\\urllib\\request.py:634\u001b[0m, in \u001b[0;36mHTTPErrorProcessor.http_response\u001b[1;34m(self, request, response)\u001b[0m\n\u001b[0;32m    631\u001b[0m \u001b[38;5;66;03m# According to RFC 2616, \"2xx\" code indicates that the client's\u001b[39;00m\n\u001b[0;32m    632\u001b[0m \u001b[38;5;66;03m# request was successfully received, understood, and accepted.\u001b[39;00m\n\u001b[0;32m    633\u001b[0m \u001b[38;5;28;01mif\u001b[39;00m \u001b[38;5;129;01mnot\u001b[39;00m (\u001b[38;5;241m200\u001b[39m \u001b[38;5;241m<\u001b[39m\u001b[38;5;241m=\u001b[39m code \u001b[38;5;241m<\u001b[39m \u001b[38;5;241m300\u001b[39m):\n\u001b[1;32m--> 634\u001b[0m     response \u001b[38;5;241m=\u001b[39m \u001b[38;5;28mself\u001b[39m\u001b[38;5;241m.\u001b[39mparent\u001b[38;5;241m.\u001b[39merror(\n\u001b[0;32m    635\u001b[0m         \u001b[38;5;124m'\u001b[39m\u001b[38;5;124mhttp\u001b[39m\u001b[38;5;124m'\u001b[39m, request, response, code, msg, hdrs)\n\u001b[0;32m    637\u001b[0m \u001b[38;5;28;01mreturn\u001b[39;00m response\n",
      "File \u001b[1;32m~\\anaconda3\\Lib\\urllib\\request.py:563\u001b[0m, in \u001b[0;36mOpenerDirector.error\u001b[1;34m(self, proto, *args)\u001b[0m\n\u001b[0;32m    561\u001b[0m \u001b[38;5;28;01mif\u001b[39;00m http_err:\n\u001b[0;32m    562\u001b[0m     args \u001b[38;5;241m=\u001b[39m (\u001b[38;5;28mdict\u001b[39m, \u001b[38;5;124m'\u001b[39m\u001b[38;5;124mdefault\u001b[39m\u001b[38;5;124m'\u001b[39m, \u001b[38;5;124m'\u001b[39m\u001b[38;5;124mhttp_error_default\u001b[39m\u001b[38;5;124m'\u001b[39m) \u001b[38;5;241m+\u001b[39m orig_args\n\u001b[1;32m--> 563\u001b[0m     \u001b[38;5;28;01mreturn\u001b[39;00m \u001b[38;5;28mself\u001b[39m\u001b[38;5;241m.\u001b[39m_call_chain(\u001b[38;5;241m*\u001b[39margs)\n",
      "File \u001b[1;32m~\\anaconda3\\Lib\\urllib\\request.py:496\u001b[0m, in \u001b[0;36mOpenerDirector._call_chain\u001b[1;34m(self, chain, kind, meth_name, *args)\u001b[0m\n\u001b[0;32m    494\u001b[0m \u001b[38;5;28;01mfor\u001b[39;00m handler \u001b[38;5;129;01min\u001b[39;00m handlers:\n\u001b[0;32m    495\u001b[0m     func \u001b[38;5;241m=\u001b[39m \u001b[38;5;28mgetattr\u001b[39m(handler, meth_name)\n\u001b[1;32m--> 496\u001b[0m     result \u001b[38;5;241m=\u001b[39m func(\u001b[38;5;241m*\u001b[39margs)\n\u001b[0;32m    497\u001b[0m     \u001b[38;5;28;01mif\u001b[39;00m result \u001b[38;5;129;01mis\u001b[39;00m \u001b[38;5;129;01mnot\u001b[39;00m \u001b[38;5;28;01mNone\u001b[39;00m:\n\u001b[0;32m    498\u001b[0m         \u001b[38;5;28;01mreturn\u001b[39;00m result\n",
      "File \u001b[1;32m~\\anaconda3\\Lib\\urllib\\request.py:643\u001b[0m, in \u001b[0;36mHTTPDefaultErrorHandler.http_error_default\u001b[1;34m(self, req, fp, code, msg, hdrs)\u001b[0m\n\u001b[0;32m    642\u001b[0m \u001b[38;5;28;01mdef\u001b[39;00m \u001b[38;5;21mhttp_error_default\u001b[39m(\u001b[38;5;28mself\u001b[39m, req, fp, code, msg, hdrs):\n\u001b[1;32m--> 643\u001b[0m     \u001b[38;5;28;01mraise\u001b[39;00m HTTPError(req\u001b[38;5;241m.\u001b[39mfull_url, code, msg, hdrs, fp)\n",
      "\u001b[1;31mHTTPError\u001b[0m: HTTP Error 403: Forbidden"
     ]
    }
   ],
   "source": [
    "data = pd.read_csv('false_test.csv')\n",
    "driver = webdriver.Chrome()\n",
    "\n",
    "# 결과 파일 존재 여부 확인\n",
    "output_file = \"false_result.csv\"\n",
    "file_exists = os.path.isfile(output_file)\n",
    "\n",
    "for url in data['URL']:\n",
    "    #1. url을 연다\n",
    "    print(\"Dynamic URL open : \"+ url)\n",
    "    driver.get(url) #동적 페이지\n",
    "    \n",
    "    time.sleep(3)\n",
    "    \n",
    "    #2. element 불러오기(동적)\n",
    "    keyword = \"남음\"\n",
    "    dynamic_elements = driver.find_elements(By.XPATH, f\"//*[contains(text(), '{keyword}')]\")\n",
    "    \n",
    "    #3. div 레이아웃 가져오기(동적)\n",
    "    dynamic_html = find_div(dynamic_elements)\n",
    "    \n",
    "    #4. 정적 페이지에서 해당 레이아웃 찾기\n",
    "    print(\"Static URL open: \"+ url)\n",
    "    static_html = urlopen(url) \n",
    "    bs_obj = BeautifulSoup(static_html, \"html.parser\") #정적페이지\n",
    "    result_dynamic, result_static, result = false_detect(dynamic_html, bs_obj) #동일한 부분 찾기\n",
    "    \n",
    "    #5. 데이터 저장\n",
    "    df = pd.DataFrame({'Dynamic_HTML': result_dynamic, 'Static_HTML':result_static, 'Result': result})\n",
    "    if not file_exists:\n",
    "        df.to_csv(output_file, index=False, mode='w', header=True, encoding='utf-8')\n",
    "        file_exists = True\n",
    "    else:\n",
    "        df.to_csv(output_file, index=False, mode='a', header=False, encoding='utf-8')\n",
    "    "
   ]
  },
  {
   "cell_type": "code",
   "execution_count": 48,
   "id": "1c6f59d5-96b7-440c-a3ef-aecac97fe259",
   "metadata": {},
   "outputs": [],
   "source": [
    "driver.quit()"
   ]
  },
  {
   "cell_type": "code",
   "execution_count": null,
   "id": "7bd152b1-2f8f-4fc9-9991-e1b9a1c28b27",
   "metadata": {},
   "outputs": [],
   "source": []
  },
  {
   "cell_type": "code",
   "execution_count": null,
   "id": "2bbd52f2-fb33-4682-959f-69a57199479e",
   "metadata": {},
   "outputs": [],
   "source": []
  },
  {
   "cell_type": "code",
   "execution_count": null,
   "id": "d6c68801-39ea-4a27-bae5-2647bd3f6063",
   "metadata": {},
   "outputs": [],
   "source": []
  }
 ],
 "metadata": {
  "kernelspec": {
   "display_name": "Python 3 (ipykernel)",
   "language": "python",
   "name": "python3"
  },
  "language_info": {
   "codemirror_mode": {
    "name": "ipython",
    "version": 3
   },
   "file_extension": ".py",
   "mimetype": "text/x-python",
   "name": "python",
   "nbconvert_exporter": "python",
   "pygments_lexer": "ipython3",
   "version": "3.11.7"
  }
 },
 "nbformat": 4,
 "nbformat_minor": 5
}
