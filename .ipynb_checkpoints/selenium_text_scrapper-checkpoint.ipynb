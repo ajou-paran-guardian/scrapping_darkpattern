{
 "cells": [
  {
   "cell_type": "code",
   "execution_count": null,
   "id": "b45ee561-9bfc-4841-81e9-79d3c36cf250",
   "metadata": {},
   "outputs": [],
   "source": [
    "#Selenium import\n",
    "from selenium import webdriver\n",
    "from selenium.webdriver.common.by import By\n",
    "from selenium.common.exceptions import NoSuchElementException  # 예외 처리 추가\n",
    "from selenium.webdriver.chrome.options import Options # user-agent 변경\n",
    "\n",
    "#pandas import\n",
    "import pandas as pd\n",
    "import time\n",
    "import os"
   ]
  },
  {
   "cell_type": "markdown",
   "id": "61c9b504-62dc-4b26-b1f4-47942b3ba9f8",
   "metadata": {},
   "source": [
    "# function"
   ]
  },
  {
   "cell_type": "code",
   "execution_count": null,
   "id": "cec0fe00-bb41-4b0f-a43c-a26fb8cd28bb",
   "metadata": {
    "scrolled": true
   },
   "outputs": [],
   "source": [
    "# 가장 작은 div 레이아웃 가져오기\n",
    "def find_div(elements):\n",
    "    html = []\n",
    "    css = []\n",
    "    for element in elements:\n",
    "        try:\n",
    "            # 현재 요소를 포함하는 가장 가까운 div 찾기\n",
    "            closest_div = element.find_element(By.XPATH, './ancestor::div[1]')\n",
    "            html_code = closest_div.get_attribute('outerHTML')\n",
    "            \n",
    "            # CSS 스타일 가져오기\n",
    "            css_style = driver.execute_script(\"\"\"\n",
    "                const styles = window.getComputedStyle(arguments[0]);\n",
    "                const styleObject = {};\n",
    "                for (let i = 0; i < styles.length; i++) {\n",
    "                    const propName = styles[i];\n",
    "                    styleObject[propName] = styles.getPropertyValue(propName);\n",
    "                }\n",
    "                return styleObject;\n",
    "            \"\"\", closest_div)\n",
    "            \n",
    "            # 스타일 출력\n",
    "            style_output = \"CSS Style:\\n\"\n",
    "            for style_name, style_value in css_style.items():  # 딕셔너리의 각 항목\n",
    "                style_output += f\"{style_name}: {style_value}\\n\"\n",
    "            \n",
    "            # 결과 출력\n",
    "            print(\"HTML Code:\")\n",
    "            print(html_code)\n",
    "            print(style_output)\n",
    "            \n",
    "            #결과값 저장\n",
    "            html.append(html_code)\n",
    "            css.append(style_output)\n",
    "            \n",
    "        except NoSuchElementException:\n",
    "            print(\"가장 가까운 div 요소를 찾을 수 없습니다.\")\n",
    "            \n",
    "    return html, css"
   ]
  },
  {
   "cell_type": "code",
   "execution_count": null,
   "id": "db1e114e-5e09-4fdc-88cb-c2385fa627c1",
   "metadata": {},
   "outputs": [],
   "source": [
    "# Chrome 옵션 설정\n",
    "chrome_options = Options()\n",
    "chrome_options.add_argument(\"Mozilla/5.0\")  # 원하는 User-Agent 문자열로 변경"
   ]
  },
  {
   "cell_type": "code",
   "execution_count": null,
   "id": "ce1863c7-c9fd-40a4-b3ec-759697ea0a0e",
   "metadata": {},
   "outputs": [],
   "source": [
    "data = pd.read_csv('test.csv')\n",
    "driver = webdriver.Chrome() # chrome driver의 경로가 파일 경로와 같아야 함\n",
    "\n",
    "# 결과 파일 존재 여부 확인\n",
    "output_file = \"result.csv\"\n",
    "file_exists = os.path.isfile(output_file)\n",
    "\n",
    "for url in data['URL']:\n",
    "    \n",
    "    #1.url open\n",
    "    print(url)\n",
    "    driver.get(url)\n",
    "    \n",
    "    time.sleep(3)\n",
    "    \n",
    "    #2. element 불러오기\n",
    "    keyword = \"AD\"  # 찾고자 하는 키워드\n",
    "    elements = driver.find_elements(By.XPATH, f\"//*[contains(text(), '{keyword}')]\")\n",
    "    \n",
    "    #3. div 레이아웃 가져오기\n",
    "    html, css = find_div(elements)\n",
    "    df = pd.DataFrame({'HTML': html, 'CSS': css})\n",
    "    \n",
    "    #4. 데이터 저장\n",
    "    #처음 저장 시에만 헤더를 추가, 이후에는 헤더 제외\n",
    "    if not file_exists:\n",
    "        df.to_csv(output_file, index=False, mode='w', header=True, encoding='utf-8')  # 첫 번째 URL\n",
    "        file_exists = True  # 첫 번째 이후로는 헤더를 제외\n",
    "    else:\n",
    "        df.to_csv(output_file, index=False, mode='a', header=False, encoding='utf-8')  # 이후 URL\n"
   ]
  },
  {
   "cell_type": "code",
   "execution_count": null,
   "id": "6b372716-a20e-4b5b-ba04-8ffbee0b5346",
   "metadata": {},
   "outputs": [],
   "source": [
    "driver.quit()"
   ]
  },
  {
   "cell_type": "code",
   "execution_count": null,
   "id": "93707d96-a011-4383-af16-ee39390f3a10",
   "metadata": {},
   "outputs": [],
   "source": []
  }
 ],
 "metadata": {
  "kernelspec": {
   "display_name": "Python 3 (ipykernel)",
   "language": "python",
   "name": "python3"
  },
  "language_info": {
   "codemirror_mode": {
    "name": "ipython",
    "version": 3
   },
   "file_extension": ".py",
   "mimetype": "text/x-python",
   "name": "python",
   "nbconvert_exporter": "python",
   "pygments_lexer": "ipython3",
   "version": "3.11.7"
  }
 },
 "nbformat": 4,
 "nbformat_minor": 5
}
